{
 "cells": [
  {
   "cell_type": "markdown",
   "metadata": {},
   "source": [
    "# Activity 1.01: Generating All Possible Sequences of Steps in a Tic-Tac-Toe Game\n",
    "\n",
    "This activity will explore the combinatorial explosion that is possible when two players play randomly. We will be using a program that, building on the previous results, generates all possible sequences of moves between a computer player and a human player.\n",
    "\n",
    "Let's assume that the human player may make any possible move. In this example, given that the computer player is playing randomly, we will examine the wins, losses, and draws belonging to two randomly playing players.\n",
    "\n",
    "Expected output:\n",
    "\n",
    "```\n",
    "step 0. Moves: 1\n",
    "step 1. Moves: 9\n",
    "step 2. Moves: 72\n",
    "step 3. Moves: 504\n",
    "step 4. Moves: 3024\n",
    "step 5. Moves: 13680\n",
    "step 6. Moves: 49402\n",
    "step 7. Moves: 111109\n",
    "step 8. Moves: 156775\n",
    "First player wins: 106279\n",
    "Second player wins: 68644\n",
    "Draw 91150\n",
    "Total 266073\n",
    "```\n",
    "\n",
    "  > **Hints**  \n",
    "  >  1. Reuse all the function codes of Steps 1–9 from the Exercise 1.02.\n",
    "  >  2. Create a function that maps the `all_moves_from_board` function on each element of a list of board spaces/squares. This way, we will have all of the nodes of a decision tree. The decision tree starts with `[ EMPTY_SIGN * 9 ]` and expands after each move.\n",
    "  >  3. Create a `filter_wins` function that takes finished games out of the list of moves and appends them in an array containing the board states won by the AI player and the opponent player.\n",
    "  >  4. Create a `count_possibilities` function that prints and returns the number of decision tree leaves that ended with a draw, were won by the first player, and were won by the second player.\n",
    "  >  5. We have up to nine steps in each state. In the 0th, 2nd, 4th, 6th, and 8th iterations, the AI player moves. In all other iterations, the opponent moves. We create all possible moves in all steps and take out finished games from the move list.\n",
    "  >  6. Finally, execute the number of possibilities to experience the combinatorial explosion."
   ]
  },
  {
   "cell_type": "code",
   "execution_count": 53,
   "metadata": {},
   "outputs": [],
   "source": [
    "from random import choice\n",
    "\n",
    "index_triples = [[1,4,7],[2,5,8],[3,6,9],[1,2,3],[4,5,6],[7,8,9],[1,5,9],[3,5,7]]\n",
    "lista_ia = []\n",
    "lista_jugador = []\n",
    "\n",
    "EMPTY_SIGN = '*'\n",
    "player_sign='X'\n",
    "ia_sign='O'\n",
    "\n",
    "def tablero(tablero):\n",
    "    for item in range(0,3):\n",
    "        if(item == 0):\n",
    "            print('\\n')\n",
    "            print('    1   2   3\\n')\n",
    "            print('1 | {}  | {}  | {}  | \\n'.format(tablero[0],tablero[1],tablero[2]))\n",
    "        if(item == 1):\n",
    "            print('2 | {}  | {}  | {}  | \\n'.format(tablero[3],tablero[4],tablero[5]))\n",
    "        if(item == 2):\n",
    "            print('3 | {}  | {}  | {}  |'.format(tablero[6],tablero[7],tablero[8]))\n",
    "            print('\\n')\n",
    "    \n",
    "def move_list(tablero):\n",
    "    movimientos = []\n",
    "    contador = 0\n",
    "    for letra in tablero:\n",
    "        if letra == EMPTY_SIGN:\n",
    "            movimientos.append(contador)\n",
    "        contador += 1\n",
    "    return movimientos    \n",
    "        \n",
    "def all_moves_from_board(tablero,signo):\n",
    "    listas = []\n",
    "    movimientos = move_list(tablero)\n",
    "    for contador in movimientos:\n",
    "        listas.append(tablero[:contador]+signo+tablero[contador+1:])\n",
    "    return listas\n",
    "\n",
    "def game_won_by(tablero):\n",
    "    for item in index_triples:\n",
    "        if tablero[item[0]-1] == tablero[item[1]-1] == tablero[item[2]-1] == player_sign:\n",
    "            return 'jugador'\n",
    "        elif tablero[item[0]-1] == tablero[item[1]-1] == tablero[item[2]-1] == ia_sign:\n",
    "            return 'ia'\n",
    "    return 'empate'\n",
    "\n",
    "def filter_wins(lista_tableros):\n",
    "    for objeto in lista_tableros:\n",
    "        ganador = game_won_by(objeto)\n",
    "        if ganador == 'jugador':\n",
    "            lista_tableros.remove(objeto)\n",
    "            lista_jugador.append(objeto)\n",
    "        elif ganador == 'ia':\n",
    "            lista_ia.append(objeto)\n",
    "            lista_tableros.remove(objeto)\n",
    "            \n",
    "def player_move(tablero, fila, columna):\n",
    "    posicion = 3 * (fila-1) + (columna-1)\n",
    "    contador = 0\n",
    "    tableroN = ''\n",
    "    if(tablero[posicion]==EMPTY_SIGN):\n",
    "        for letra in tablero:\n",
    "            if(contador == posicion):\n",
    "                tableroN = tableroN+player_sign\n",
    "            else:\n",
    "                tableroN = tableroN+letra\n",
    "            contador += 1\n",
    "        return tableroN\n",
    "            \n",
    "def game_loop():\n",
    "    board = EMPTY_SIGN * 9\n",
    "    empty_cell_count = 5\n",
    "    winner = True\n",
    "    while empty_cell_count >= 0 and winner:\n",
    "        tablero(board)\n",
    "        if empty_cell_count > 0:\n",
    "            fila = int(input('Elija la fila.'))\n",
    "            columna = int(input('Elija la columna'))\n",
    "            board = player_move(board,fila,columna)\n",
    "            if empty_cell_count-1 > 0 and winner:\n",
    "                board = all_moves_from_board(board,ia_sign)\n",
    "            winner = game_won_by(board)\n",
    "        if(winner == False):\n",
    "            tablero(board)\n",
    "        empty_cell_count = empty_cell_count-1"
   ]
  },
  {
   "cell_type": "code",
   "execution_count": 55,
   "metadata": {},
   "outputs": [],
   "source": [
    "def count_posibilities():\n",
    "    lista_tableros = [EMPTY_SIGN * 9]\n",
    "    for i in range(9):\n",
    "        print('step: {}. Moves: {}'.format(i,len(lista_tableros)))\n",
    "        if i % 2 == 0:\n",
    "            lista_tableros = recorrer_lista(lista_tableros,player_sign)\n",
    "        if i % 2 == 1:\n",
    "            lista_tableros = recorrer_lista(lista_tableros,ia_sign)\n",
    "        filter_wins(lista_tableros)\n",
    "    print('First player wins: {}'.format(len(lista_jugador)))\n",
    "    print('Second player wins: {}'.format(len(lista_ia)))\n",
    "    print('Draw: {}'.format(len(lista_tableros)))\n",
    "    print('Total: {}'.format(len(lista_jugador)+len(lista_ia)+len(lista_tableros)))\n",
    "    lista_ia.clear()\n",
    "    lista_jugador.clear()"
   ]
  },
  {
   "cell_type": "code",
   "execution_count": 20,
   "metadata": {},
   "outputs": [],
   "source": [
    "def recorrer_lista(tableros,signo):\n",
    "    lista_tableros = []\n",
    "    for tablero in tableros:\n",
    "        lista_tableros.extend(all_moves_from_board(tablero,signo))\n",
    "    return lista_tableros"
   ]
  },
  {
   "cell_type": "code",
   "execution_count": 57,
   "metadata": {},
   "outputs": [
    {
     "name": "stdout",
     "output_type": "stream",
     "text": [
      "step: 0. Moves: 1\n",
      "step: 1. Moves: 9\n",
      "step: 2. Moves: 72\n",
      "step: 3. Moves: 504\n",
      "step: 4. Moves: 3024\n",
      "step: 5. Moves: 13680\n",
      "step: 6. Moves: 49402\n"
     ]
    },
    {
     "ename": "KeyboardInterrupt",
     "evalue": "",
     "output_type": "error",
     "traceback": [
      "\u001b[1;31m---------------------------------------------------------------------------\u001b[0m",
      "\u001b[1;31mKeyboardInterrupt\u001b[0m                         Traceback (most recent call last)",
      "\u001b[1;32m<ipython-input-57-2192fc3ac4b8>\u001b[0m in \u001b[0;36m<module>\u001b[1;34m\u001b[0m\n\u001b[1;32m----> 1\u001b[1;33m \u001b[0mcount_posibilities\u001b[0m\u001b[1;33m(\u001b[0m\u001b[1;33m)\u001b[0m\u001b[1;33m\u001b[0m\u001b[1;33m\u001b[0m\u001b[0m\n\u001b[0m",
      "\u001b[1;32m<ipython-input-55-6adc0d6ba9a0>\u001b[0m in \u001b[0;36mcount_posibilities\u001b[1;34m()\u001b[0m\n\u001b[0;32m      7\u001b[0m         \u001b[1;32mif\u001b[0m \u001b[0mi\u001b[0m \u001b[1;33m%\u001b[0m \u001b[1;36m2\u001b[0m \u001b[1;33m==\u001b[0m \u001b[1;36m1\u001b[0m\u001b[1;33m:\u001b[0m\u001b[1;33m\u001b[0m\u001b[1;33m\u001b[0m\u001b[0m\n\u001b[0;32m      8\u001b[0m             \u001b[0mlista_tableros\u001b[0m \u001b[1;33m=\u001b[0m \u001b[0mrecorrer_lista\u001b[0m\u001b[1;33m(\u001b[0m\u001b[0mlista_tableros\u001b[0m\u001b[1;33m,\u001b[0m\u001b[0mia_sign\u001b[0m\u001b[1;33m)\u001b[0m\u001b[1;33m\u001b[0m\u001b[1;33m\u001b[0m\u001b[0m\n\u001b[1;32m----> 9\u001b[1;33m         \u001b[0mfilter_wins\u001b[0m\u001b[1;33m(\u001b[0m\u001b[0mlista_tableros\u001b[0m\u001b[1;33m)\u001b[0m\u001b[1;33m\u001b[0m\u001b[1;33m\u001b[0m\u001b[0m\n\u001b[0m\u001b[0;32m     10\u001b[0m     \u001b[0mprint\u001b[0m\u001b[1;33m(\u001b[0m\u001b[1;34m'First player wins: {}'\u001b[0m\u001b[1;33m.\u001b[0m\u001b[0mformat\u001b[0m\u001b[1;33m(\u001b[0m\u001b[0mlen\u001b[0m\u001b[1;33m(\u001b[0m\u001b[0mlista_jugador\u001b[0m\u001b[1;33m)\u001b[0m\u001b[1;33m)\u001b[0m\u001b[1;33m)\u001b[0m\u001b[1;33m\u001b[0m\u001b[1;33m\u001b[0m\u001b[0m\n\u001b[0;32m     11\u001b[0m     \u001b[0mprint\u001b[0m\u001b[1;33m(\u001b[0m\u001b[1;34m'Second player wins: {}'\u001b[0m\u001b[1;33m.\u001b[0m\u001b[0mformat\u001b[0m\u001b[1;33m(\u001b[0m\u001b[0mlen\u001b[0m\u001b[1;33m(\u001b[0m\u001b[0mlista_ia\u001b[0m\u001b[1;33m)\u001b[0m\u001b[1;33m)\u001b[0m\u001b[1;33m)\u001b[0m\u001b[1;33m\u001b[0m\u001b[1;33m\u001b[0m\u001b[0m\n",
      "\u001b[1;32m<ipython-input-53-2f58fffcf182>\u001b[0m in \u001b[0;36mfilter_wins\u001b[1;34m(lista_tableros)\u001b[0m\n\u001b[0;32m     50\u001b[0m         \u001b[1;32mif\u001b[0m \u001b[0mganador\u001b[0m \u001b[1;33m==\u001b[0m \u001b[1;34m'jugador'\u001b[0m\u001b[1;33m:\u001b[0m\u001b[1;33m\u001b[0m\u001b[1;33m\u001b[0m\u001b[0m\n\u001b[0;32m     51\u001b[0m             \u001b[0mlista_tableros\u001b[0m\u001b[1;33m.\u001b[0m\u001b[0mremove\u001b[0m\u001b[1;33m(\u001b[0m\u001b[0mobjeto\u001b[0m\u001b[1;33m)\u001b[0m\u001b[1;33m\u001b[0m\u001b[1;33m\u001b[0m\u001b[0m\n\u001b[1;32m---> 52\u001b[1;33m             \u001b[0mlista_jugador\u001b[0m\u001b[1;33m.\u001b[0m\u001b[0mappend\u001b[0m\u001b[1;33m(\u001b[0m\u001b[0mobjeto\u001b[0m\u001b[1;33m)\u001b[0m\u001b[1;33m\u001b[0m\u001b[1;33m\u001b[0m\u001b[0m\n\u001b[0m\u001b[0;32m     53\u001b[0m         \u001b[1;32melif\u001b[0m \u001b[0mganador\u001b[0m \u001b[1;33m==\u001b[0m \u001b[1;34m'ia'\u001b[0m\u001b[1;33m:\u001b[0m\u001b[1;33m\u001b[0m\u001b[1;33m\u001b[0m\u001b[0m\n\u001b[0;32m     54\u001b[0m             \u001b[0mlista_ia\u001b[0m\u001b[1;33m.\u001b[0m\u001b[0mappend\u001b[0m\u001b[1;33m(\u001b[0m\u001b[0mobjeto\u001b[0m\u001b[1;33m)\u001b[0m\u001b[1;33m\u001b[0m\u001b[1;33m\u001b[0m\u001b[0m\n",
      "\u001b[1;31mKeyboardInterrupt\u001b[0m: "
     ]
    }
   ],
   "source": [
    "count_posibilities()"
   ]
  },
  {
   "cell_type": "code",
   "execution_count": 54,
   "metadata": {},
   "outputs": [
    {
     "name": "stdout",
     "output_type": "stream",
     "text": [
      "\n",
      "\n",
      "    1   2   3\n",
      "\n",
      "1 | *  | *  | *  | \n",
      "\n",
      "2 | *  | *  | *  | \n",
      "\n",
      "3 | *  | *  | *  |\n",
      "\n",
      "\n"
     ]
    },
    {
     "name": "stdin",
     "output_type": "stream",
     "text": [
      "Elija la fila. 1\n",
      "Elija la columna 2\n"
     ]
    },
    {
     "name": "stdout",
     "output_type": "stream",
     "text": [
      "\n",
      "\n",
      "    1   2   3\n",
      "\n",
      "1 | OX*******  | *XO******  | *X*O*****  | \n",
      "\n",
      "2 | *X**O****  | *X***O***  | *X****O**  | \n",
      "\n"
     ]
    },
    {
     "ename": "IndexError",
     "evalue": "list index out of range",
     "output_type": "error",
     "traceback": [
      "\u001b[1;31m---------------------------------------------------------------------------\u001b[0m",
      "\u001b[1;31mIndexError\u001b[0m                                Traceback (most recent call last)",
      "\u001b[1;32m<ipython-input-54-94f5c72bb83e>\u001b[0m in \u001b[0;36m<module>\u001b[1;34m\u001b[0m\n\u001b[1;32m----> 1\u001b[1;33m \u001b[0mgame_loop\u001b[0m\u001b[1;33m(\u001b[0m\u001b[1;33m)\u001b[0m\u001b[1;33m\u001b[0m\u001b[1;33m\u001b[0m\u001b[0m\n\u001b[0m",
      "\u001b[1;32m<ipython-input-53-2f58fffcf182>\u001b[0m in \u001b[0;36mgame_loop\u001b[1;34m()\u001b[0m\n\u001b[0;32m     73\u001b[0m     \u001b[0mwinner\u001b[0m \u001b[1;33m=\u001b[0m \u001b[1;32mTrue\u001b[0m\u001b[1;33m\u001b[0m\u001b[1;33m\u001b[0m\u001b[0m\n\u001b[0;32m     74\u001b[0m     \u001b[1;32mwhile\u001b[0m \u001b[0mempty_cell_count\u001b[0m \u001b[1;33m>=\u001b[0m \u001b[1;36m0\u001b[0m \u001b[1;32mand\u001b[0m \u001b[0mwinner\u001b[0m\u001b[1;33m:\u001b[0m\u001b[1;33m\u001b[0m\u001b[1;33m\u001b[0m\u001b[0m\n\u001b[1;32m---> 75\u001b[1;33m         \u001b[0mtablero\u001b[0m\u001b[1;33m(\u001b[0m\u001b[0mboard\u001b[0m\u001b[1;33m)\u001b[0m\u001b[1;33m\u001b[0m\u001b[1;33m\u001b[0m\u001b[0m\n\u001b[0m\u001b[0;32m     76\u001b[0m         \u001b[1;32mif\u001b[0m \u001b[0mempty_cell_count\u001b[0m \u001b[1;33m>\u001b[0m \u001b[1;36m0\u001b[0m\u001b[1;33m:\u001b[0m\u001b[1;33m\u001b[0m\u001b[1;33m\u001b[0m\u001b[0m\n\u001b[0;32m     77\u001b[0m             \u001b[0mfila\u001b[0m \u001b[1;33m=\u001b[0m \u001b[0mint\u001b[0m\u001b[1;33m(\u001b[0m\u001b[0minput\u001b[0m\u001b[1;33m(\u001b[0m\u001b[1;34m'Elija la fila.'\u001b[0m\u001b[1;33m)\u001b[0m\u001b[1;33m)\u001b[0m\u001b[1;33m\u001b[0m\u001b[1;33m\u001b[0m\u001b[0m\n",
      "\u001b[1;32m<ipython-input-53-2f58fffcf182>\u001b[0m in \u001b[0;36mtablero\u001b[1;34m(tablero)\u001b[0m\n\u001b[0;32m     18\u001b[0m             \u001b[0mprint\u001b[0m\u001b[1;33m(\u001b[0m\u001b[1;34m'2 | {}  | {}  | {}  | \\n'\u001b[0m\u001b[1;33m.\u001b[0m\u001b[0mformat\u001b[0m\u001b[1;33m(\u001b[0m\u001b[0mtablero\u001b[0m\u001b[1;33m[\u001b[0m\u001b[1;36m3\u001b[0m\u001b[1;33m]\u001b[0m\u001b[1;33m,\u001b[0m\u001b[0mtablero\u001b[0m\u001b[1;33m[\u001b[0m\u001b[1;36m4\u001b[0m\u001b[1;33m]\u001b[0m\u001b[1;33m,\u001b[0m\u001b[0mtablero\u001b[0m\u001b[1;33m[\u001b[0m\u001b[1;36m5\u001b[0m\u001b[1;33m]\u001b[0m\u001b[1;33m)\u001b[0m\u001b[1;33m)\u001b[0m\u001b[1;33m\u001b[0m\u001b[1;33m\u001b[0m\u001b[0m\n\u001b[0;32m     19\u001b[0m         \u001b[1;32mif\u001b[0m\u001b[1;33m(\u001b[0m\u001b[0mitem\u001b[0m \u001b[1;33m==\u001b[0m \u001b[1;36m2\u001b[0m\u001b[1;33m)\u001b[0m\u001b[1;33m:\u001b[0m\u001b[1;33m\u001b[0m\u001b[1;33m\u001b[0m\u001b[0m\n\u001b[1;32m---> 20\u001b[1;33m             \u001b[0mprint\u001b[0m\u001b[1;33m(\u001b[0m\u001b[1;34m'3 | {}  | {}  | {}  |'\u001b[0m\u001b[1;33m.\u001b[0m\u001b[0mformat\u001b[0m\u001b[1;33m(\u001b[0m\u001b[0mtablero\u001b[0m\u001b[1;33m[\u001b[0m\u001b[1;36m6\u001b[0m\u001b[1;33m]\u001b[0m\u001b[1;33m,\u001b[0m\u001b[0mtablero\u001b[0m\u001b[1;33m[\u001b[0m\u001b[1;36m7\u001b[0m\u001b[1;33m]\u001b[0m\u001b[1;33m,\u001b[0m\u001b[0mtablero\u001b[0m\u001b[1;33m[\u001b[0m\u001b[1;36m8\u001b[0m\u001b[1;33m]\u001b[0m\u001b[1;33m)\u001b[0m\u001b[1;33m)\u001b[0m\u001b[1;33m\u001b[0m\u001b[1;33m\u001b[0m\u001b[0m\n\u001b[0m\u001b[0;32m     21\u001b[0m             \u001b[0mprint\u001b[0m\u001b[1;33m(\u001b[0m\u001b[1;34m'\\n'\u001b[0m\u001b[1;33m)\u001b[0m\u001b[1;33m\u001b[0m\u001b[1;33m\u001b[0m\u001b[0m\n\u001b[0;32m     22\u001b[0m \u001b[1;33m\u001b[0m\u001b[0m\n",
      "\u001b[1;31mIndexError\u001b[0m: list index out of range"
     ]
    }
   ],
   "source": [
    "game_loop()"
   ]
  },
  {
   "cell_type": "code",
   "execution_count": null,
   "metadata": {},
   "outputs": [],
   "source": []
  },
  {
   "cell_type": "markdown",
   "metadata": {},
   "source": [
    "As you can see, the tree of the board states consists of a total of $266073$ leaves. The `count_possibilities` function essentially implements a BFS algorithm to traverse all the possible states of the game. Notice that we count these states multiple times because placing an $X$ in the top-right corner in Step 1 and placing an $X$ in the top-left corner in Step 3 leads to similar possible states as starting with the top-left corner and then placing an $X$ in the top-right corner. If we implemented the detection of duplicate states, we would have to check fewer nodes. However, at this stage, due to the limited depth of the game, we will omit this step.\n",
    "\n",
    "A decision tree, however, is identical to the data structure examined by `count_possibilities`. In a decision tree, we explore the utility of each move by investigating all possible future steps up to a certain extent. In our example, we could calculate the utility of the initial moves by observing the number of wins and losses after fixing the first few moves."
   ]
  },
  {
   "cell_type": "code",
   "execution_count": null,
   "metadata": {},
   "outputs": [],
   "source": []
  }
 ],
 "metadata": {
  "kernelspec": {
   "display_name": "Python 3",
   "language": "python",
   "name": "python3"
  },
  "language_info": {
   "codemirror_mode": {
    "name": "ipython",
    "version": 3
   },
   "file_extension": ".py",
   "mimetype": "text/x-python",
   "name": "python",
   "nbconvert_exporter": "python",
   "pygments_lexer": "ipython3",
   "version": "3.8.5"
  }
 },
 "nbformat": 4,
 "nbformat_minor": 4
}
